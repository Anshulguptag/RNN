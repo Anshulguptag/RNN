{
  "nbformat": 4,
  "nbformat_minor": 0,
  "metadata": {
    "colab": {
      "name": "RNN Chatbot.ipynb",
      "version": "0.3.2",
      "views": {},
      "default_view": {},
      "provenance": [],
      "collapsed_sections": []
    },
    "kernelspec": {
      "name": "python3",
      "display_name": "Python 3"
    },
    "accelerator": "GPU"
  },
  "cells": [
    {
      "metadata": {
        "id": "nsqzyR35Pswe",
        "colab_type": "code",
        "colab": {
          "autoexec": {
            "startup": false,
            "wait_interval": 0
          },
          "base_uri": "https://localhost:8080/",
          "height": 35
        },
        "outputId": "340ae205-296d-4d49-9757-e5bb458cddf1",
        "executionInfo": {
          "status": "ok",
          "timestamp": 1526479301965,
          "user_tz": -330,
          "elapsed": 8420,
          "user": {
            "displayName": "Anshul Gupta",
            "photoUrl": "//lh3.googleusercontent.com/-XxFOgdcwAIE/AAAAAAAAAAI/AAAAAAAALnc/mu3OjC5SyOU/s50-c-k-no/photo.jpg",
            "userId": "114464935403793017819"
          }
        }
      },
      "cell_type": "code",
      "source": [
        "import sys\n",
        "import numpy\n",
        "from keras.models import Sequential\n",
        "from keras.layers import Dense\n",
        "from keras.layers import Dropout\n",
        "from keras.layers import LSTM\n",
        "from keras.callbacks import ModelCheckpoint\n",
        "from keras.utils import np_utils\n",
        "from google.colab import files\n",
        "from keras.models import model_from_json"
      ],
      "execution_count": 1,
      "outputs": [
        {
          "output_type": "stream",
          "text": [
            "Using TensorFlow backend.\n"
          ],
          "name": "stderr"
        }
      ]
    },
    {
      "metadata": {
        "id": "HUkEs-IQavcK",
        "colab_type": "code",
        "colab": {
          "autoexec": {
            "startup": false,
            "wait_interval": 0
          },
          "base_uri": "https://localhost:8080/",
          "height": 2435
        },
        "outputId": "e7d2c842-16e0-41cc-aede-d495df50eb54",
        "executionInfo": {
          "status": "ok",
          "timestamp": 1526479333456,
          "user_tz": -330,
          "elapsed": 30323,
          "user": {
            "displayName": "Anshul Gupta",
            "photoUrl": "//lh3.googleusercontent.com/-XxFOgdcwAIE/AAAAAAAAAAI/AAAAAAAALnc/mu3OjC5SyOU/s50-c-k-no/photo.jpg",
            "userId": "114464935403793017819"
          }
        }
      },
      "cell_type": "code",
      "source": [
        "!apt-get install -y -qq software-properties-common python-software-properties module-init-tools\n",
        "!add-apt-repository -y ppa:alessandro-strada/ppa 2>&1 > /dev/null\n",
        "!apt-get update -qq 2>&1 > /dev/null\n",
        "!apt-get -y install -qq google-drive-ocamlfuse fuse"
      ],
      "execution_count": 2,
      "outputs": [
        {
          "output_type": "stream",
          "text": [
            "Preconfiguring packages ...\n",
            "Selecting previously unselected package cron.\n",
            "(Reading database ... 18298 files and directories currently installed.)\n",
            "Preparing to unpack .../00-cron_3.0pl1-128ubuntu5_amd64.deb ...\n",
            "Unpacking cron (3.0pl1-128ubuntu5) ...\n",
            "Selecting previously unselected package libapparmor1:amd64.\n",
            "Preparing to unpack .../01-libapparmor1_2.11.0-2ubuntu17.1_amd64.deb ...\n",
            "Unpacking libapparmor1:amd64 (2.11.0-2ubuntu17.1) ...\n",
            "Selecting previously unselected package libdbus-1-3:amd64.\n",
            "Preparing to unpack .../02-libdbus-1-3_1.10.22-1ubuntu1_amd64.deb ...\n",
            "Unpacking libdbus-1-3:amd64 (1.10.22-1ubuntu1) ...\n",
            "Selecting previously unselected package dbus.\n",
            "Preparing to unpack .../03-dbus_1.10.22-1ubuntu1_amd64.deb ...\n",
            "Unpacking dbus (1.10.22-1ubuntu1) ...\n",
            "Selecting previously unselected package dirmngr.\n",
            "Preparing to unpack .../04-dirmngr_2.1.15-1ubuntu8_amd64.deb ...\n",
            "Unpacking dirmngr (2.1.15-1ubuntu8) ...\n",
            "Selecting previously unselected package distro-info-data.\n",
            "Preparing to unpack .../05-distro-info-data_0.36ubuntu0.2_all.deb ...\n",
            "Unpacking distro-info-data (0.36ubuntu0.2) ...\n",
            "Selecting previously unselected package libkmod2:amd64.\n",
            "Preparing to unpack .../06-libkmod2_24-1ubuntu2_amd64.deb ...\n",
            "Unpacking libkmod2:amd64 (24-1ubuntu2) ...\n",
            "Selecting previously unselected package kmod.\n",
            "Preparing to unpack .../07-kmod_24-1ubuntu2_amd64.deb ...\n",
            "Unpacking kmod (24-1ubuntu2) ...\n",
            "Selecting previously unselected package lsb-release.\n",
            "Preparing to unpack .../08-lsb-release_9.20160110ubuntu5_all.deb ...\n",
            "Unpacking lsb-release (9.20160110ubuntu5) ...\n",
            "Selecting previously unselected package libgirepository-1.0-1:amd64.\n",
            "Preparing to unpack .../09-libgirepository-1.0-1_1.54.1-1_amd64.deb ...\n",
            "Unpacking libgirepository-1.0-1:amd64 (1.54.1-1) ...\n",
            "Selecting previously unselected package gir1.2-glib-2.0:amd64.\n",
            "Preparing to unpack .../10-gir1.2-glib-2.0_1.54.1-1_amd64.deb ...\n",
            "Unpacking gir1.2-glib-2.0:amd64 (1.54.1-1) ...\n",
            "Selecting previously unselected package iso-codes.\n",
            "Preparing to unpack .../11-iso-codes_3.75-1_all.deb ...\n",
            "Unpacking iso-codes (3.75-1) ...\n",
            "Selecting previously unselected package libdbus-glib-1-2:amd64.\n",
            "Preparing to unpack .../12-libdbus-glib-1-2_0.108-2_amd64.deb ...\n",
            "Unpacking libdbus-glib-1-2:amd64 (0.108-2) ...\n",
            "Selecting previously unselected package python-apt-common.\n",
            "Preparing to unpack .../13-python-apt-common_1.4.0~beta3build2_all.deb ...\n",
            "Unpacking python-apt-common (1.4.0~beta3build2) ...\n",
            "Selecting previously unselected package python3-apt.\n",
            "Preparing to unpack .../14-python3-apt_1.4.0~beta3build2_amd64.deb ...\n",
            "Unpacking python3-apt (1.4.0~beta3build2) ...\n",
            "Selecting previously unselected package python3-dbus.\n",
            "Preparing to unpack .../15-python3-dbus_1.2.4-1build3_amd64.deb ...\n",
            "Unpacking python3-dbus (1.2.4-1build3) ...\n",
            "Selecting previously unselected package python3-gi.\n",
            "Preparing to unpack .../16-python3-gi_3.24.1-2build1_amd64.deb ...\n",
            "Unpacking python3-gi (3.24.1-2build1) ...\n",
            "Selecting previously unselected package module-init-tools.\n",
            "Preparing to unpack .../17-module-init-tools_24-1ubuntu2_all.deb ...\n",
            "Unpacking module-init-tools (24-1ubuntu2) ...\n",
            "Selecting previously unselected package python-apt.\n",
            "Preparing to unpack .../18-python-apt_1.4.0~beta3build2_amd64.deb ...\n",
            "Unpacking python-apt (1.4.0~beta3build2) ...\n",
            "Selecting previously unselected package python-pycurl.\n",
            "Preparing to unpack .../19-python-pycurl_7.43.0-2build2_amd64.deb ...\n",
            "Unpacking python-pycurl (7.43.0-2build2) ...\n",
            "Selecting previously unselected package python-software-properties.\n",
            "Preparing to unpack .../20-python-software-properties_0.96.24.17_all.deb ...\n",
            "Unpacking python-software-properties (0.96.24.17) ...\n",
            "Selecting previously unselected package python3-software-properties.\n",
            "Preparing to unpack .../21-python3-software-properties_0.96.24.17_all.deb ...\n",
            "Unpacking python3-software-properties (0.96.24.17) ...\n",
            "Selecting previously unselected package software-properties-common.\n",
            "Preparing to unpack .../22-software-properties-common_0.96.24.17_all.deb ...\n",
            "Unpacking software-properties-common (0.96.24.17) ...\n",
            "Selecting previously unselected package unattended-upgrades.\n",
            "Preparing to unpack .../23-unattended-upgrades_0.98ubuntu1.1_all.deb ...\n",
            "Unpacking unattended-upgrades (0.98ubuntu1.1) ...\n",
            "Setting up python-apt-common (1.4.0~beta3build2) ...\n",
            "Setting up python3-apt (1.4.0~beta3build2) ...\n",
            "Setting up iso-codes (3.75-1) ...\n",
            "Setting up distro-info-data (0.36ubuntu0.2) ...\n",
            "Setting up python-pycurl (7.43.0-2build2) ...\n",
            "Setting up lsb-release (9.20160110ubuntu5) ...\n",
            "Setting up libgirepository-1.0-1:amd64 (1.54.1-1) ...\n",
            "Setting up libkmod2:amd64 (24-1ubuntu2) ...\n",
            "Setting up gir1.2-glib-2.0:amd64 (1.54.1-1) ...\n",
            "Processing triggers for libc-bin (2.26-0ubuntu2.1) ...\n",
            "Setting up libapparmor1:amd64 (2.11.0-2ubuntu17.1) ...\n",
            "Setting up unattended-upgrades (0.98ubuntu1.1) ...\n"
          ],
          "name": "stdout"
        },
        {
          "output_type": "stream",
          "text": [
            "\r\n",
            "Creating config file /etc/apt/apt.conf.d/20auto-upgrades with new version\n",
            "\n",
            "Creating config file /etc/apt/apt.conf.d/50unattended-upgrades with new version\n",
            "invoke-rc.d: could not determine current runlevel\n",
            "invoke-rc.d: policy-rc.d denied execution of start.\n",
            "Setting up dirmngr (2.1.15-1ubuntu8) ...\n",
            "Setting up cron (3.0pl1-128ubuntu5) ...\n",
            "Adding group `crontab' (GID 102) ...\n",
            "Done.\n",
            "update-rc.d: warning: start and stop actions are no longer supported; falling back to defaults\n",
            "update-rc.d: warning: stop runlevel arguments (1) do not match cron Default-Stop values (none)\n",
            "invoke-rc.d: could not determine current runlevel\n",
            "invoke-rc.d: policy-rc.d denied execution of start.\n",
            "Setting up libdbus-1-3:amd64 (1.10.22-1ubuntu1) ...\n",
            "Setting up kmod (24-1ubuntu2) ...\n",
            "Setting up libdbus-glib-1-2:amd64 (0.108-2) ...\n",
            "Setting up python3-gi (3.24.1-2build1) ...\n",
            "Setting up module-init-tools (24-1ubuntu2) ...\n",
            "Setting up python3-software-properties (0.96.24.17) ...\n",
            "Setting up dbus (1.10.22-1ubuntu1) ...\n",
            "Setting up python-apt (1.4.0~beta3build2) ...\n",
            "Setting up python3-dbus (1.2.4-1build3) ...\n",
            "Setting up python-software-properties (0.96.24.17) ...\n",
            "Setting up software-properties-common (0.96.24.17) ...\n",
            "Processing triggers for libc-bin (2.26-0ubuntu2.1) ...\n",
            "Processing triggers for dbus (1.10.22-1ubuntu1) ...\n",
            "gpg: keybox '/tmp/tmpws7259zo/pubring.gpg' created\n",
            "gpg: /tmp/tmpws7259zo/trustdb.gpg: trustdb created\n",
            "gpg: key AD5F235DF639B041: public key \"Launchpad PPA for Alessandro Strada\" imported\n",
            "gpg: Total number processed: 1\n",
            "gpg:               imported: 1\n",
            "Warning: apt-key output should not be parsed (stdout is not a terminal)\n",
            "Selecting previously unselected package libfuse2:amd64.\n",
            "(Reading database ... 19706 files and directories currently installed.)\n",
            "Preparing to unpack .../libfuse2_2.9.7-1ubuntu1_amd64.deb ...\n",
            "Unpacking libfuse2:amd64 (2.9.7-1ubuntu1) ...\n",
            "Selecting previously unselected package fuse.\n",
            "Preparing to unpack .../fuse_2.9.7-1ubuntu1_amd64.deb ...\n",
            "Unpacking fuse (2.9.7-1ubuntu1) ...\n",
            "Selecting previously unselected package google-drive-ocamlfuse.\n",
            "Preparing to unpack .../google-drive-ocamlfuse_0.6.21-0ubuntu2_amd64.deb ...\n",
            "Unpacking google-drive-ocamlfuse (0.6.21-0ubuntu2) ...\n",
            "Setting up libfuse2:amd64 (2.9.7-1ubuntu1) ...\n",
            "Processing triggers for libc-bin (2.26-0ubuntu2.1) ...\n",
            "Setting up fuse (2.9.7-1ubuntu1) ...\n",
            "Setting up google-drive-ocamlfuse (0.6.21-0ubuntu2) ...\n"
          ],
          "name": "stdout"
        }
      ]
    },
    {
      "metadata": {
        "id": "qwcaGExSayDv",
        "colab_type": "code",
        "colab": {
          "autoexec": {
            "startup": false,
            "wait_interval": 0
          }
        }
      },
      "cell_type": "code",
      "source": [
        "from google.colab import auth\n",
        "auth.authenticate_user()"
      ],
      "execution_count": 0,
      "outputs": []
    },
    {
      "metadata": {
        "id": "c_Ugyaasa0Qo",
        "colab_type": "code",
        "colab": {
          "autoexec": {
            "startup": false,
            "wait_interval": 0
          },
          "base_uri": "https://localhost:8080/",
          "height": 110
        },
        "outputId": "c226a239-64f7-4118-d213-725f6c690ad4",
        "executionInfo": {
          "status": "ok",
          "timestamp": 1526479381835,
          "user_tz": -330,
          "elapsed": 19604,
          "user": {
            "displayName": "Anshul Gupta",
            "photoUrl": "//lh3.googleusercontent.com/-XxFOgdcwAIE/AAAAAAAAAAI/AAAAAAAALnc/mu3OjC5SyOU/s50-c-k-no/photo.jpg",
            "userId": "114464935403793017819"
          }
        }
      },
      "cell_type": "code",
      "source": [
        "from oauth2client.client import GoogleCredentials\n",
        "creds = GoogleCredentials.get_application_default()\n",
        "import getpass\n",
        "!google-drive-ocamlfuse -headless -id={creds.client_id} -secret={creds.client_secret} < /dev/null 2>&1 | grep URL\n",
        "vcode = getpass.getpass()\n",
        "!echo {vcode} | google-drive-ocamlfuse -headless -id={creds.client_id} -secret={creds.client_secret}"
      ],
      "execution_count": 4,
      "outputs": [
        {
          "output_type": "stream",
          "text": [
            "Please, open the following URL in a web browser: https://accounts.google.com/o/oauth2/auth?client_id=32555940559.apps.googleusercontent.com&redirect_uri=urn%3Aietf%3Awg%3Aoauth%3A2.0%3Aoob&scope=https%3A%2F%2Fwww.googleapis.com%2Fauth%2Fdrive&response_type=code&access_type=offline&approval_prompt=force\r\n",
            "··········\n",
            "Please, open the following URL in a web browser: https://accounts.google.com/o/oauth2/auth?client_id=32555940559.apps.googleusercontent.com&redirect_uri=urn%3Aietf%3Awg%3Aoauth%3A2.0%3Aoob&scope=https%3A%2F%2Fwww.googleapis.com%2Fauth%2Fdrive&response_type=code&access_type=offline&approval_prompt=force\n",
            "Please enter the verification code: Access token retrieved correctly.\n"
          ],
          "name": "stdout"
        }
      ]
    },
    {
      "metadata": {
        "id": "EyBrasnKjkMJ",
        "colab_type": "code",
        "colab": {
          "autoexec": {
            "startup": false,
            "wait_interval": 0
          },
          "base_uri": "https://localhost:8080/",
          "height": 54
        },
        "outputId": "930db8f8-fb65-4aa1-cb39-6db7321805c3",
        "executionInfo": {
          "status": "ok",
          "timestamp": 1526479387535,
          "user_tz": -330,
          "elapsed": 5650,
          "user": {
            "displayName": "Anshul Gupta",
            "photoUrl": "//lh3.googleusercontent.com/-XxFOgdcwAIE/AAAAAAAAAAI/AAAAAAAALnc/mu3OjC5SyOU/s50-c-k-no/photo.jpg",
            "userId": "114464935403793017819"
          }
        }
      },
      "cell_type": "code",
      "source": [
        "!mkdir -p drive\n",
        "!google-drive-ocamlfuse drive\n",
        "\n",
        "print ('Files in Drive:')\n",
        "!ls drive/Machine_Learning/\n"
      ],
      "execution_count": 5,
      "outputs": [
        {
          "output_type": "stream",
          "text": [
            "Files in Drive:\n",
            "model.json  RNN Chatbot.ipynb  train  wonderland.txt\n"
          ],
          "name": "stdout"
        }
      ]
    },
    {
      "metadata": {
        "id": "9vVjtna8QEXf",
        "colab_type": "code",
        "colab": {
          "autoexec": {
            "startup": false,
            "wait_interval": 0
          }
        }
      },
      "cell_type": "code",
      "source": [
        "filename = \"drive/Machine_Learning/wonderland.txt\"\n",
        "raw_text = open(filename).read()\n",
        "raw_text = raw_text.lower()"
      ],
      "execution_count": 0,
      "outputs": []
    },
    {
      "metadata": {
        "id": "M0I2KCz3QGsh",
        "colab_type": "code",
        "colab": {
          "autoexec": {
            "startup": false,
            "wait_interval": 0
          }
        }
      },
      "cell_type": "code",
      "source": [
        "chars = sorted(list(set(raw_text)))\n",
        "char_to_int = dict((c, i) for i, c in enumerate(chars))"
      ],
      "execution_count": 0,
      "outputs": []
    },
    {
      "metadata": {
        "id": "t4USpDVYb9Kl",
        "colab_type": "code",
        "colab": {
          "autoexec": {
            "startup": false,
            "wait_interval": 0
          },
          "base_uri": "https://localhost:8080/",
          "height": 54
        },
        "outputId": "1dcd5fad-5f74-4e76-f3fb-2056c8833990",
        "executionInfo": {
          "status": "ok",
          "timestamp": 1526479391898,
          "user_tz": -330,
          "elapsed": 908,
          "user": {
            "displayName": "Anshul Gupta",
            "photoUrl": "//lh3.googleusercontent.com/-XxFOgdcwAIE/AAAAAAAAAAI/AAAAAAAALnc/mu3OjC5SyOU/s50-c-k-no/photo.jpg",
            "userId": "114464935403793017819"
          }
        }
      },
      "cell_type": "code",
      "source": [
        "n_chars = len(raw_text)\n",
        "n_vocab = len(chars)\n",
        "print (\"Total Characters: \", n_chars)\n",
        "print (\"Total Vocab: \", n_vocab)"
      ],
      "execution_count": 8,
      "outputs": [
        {
          "output_type": "stream",
          "text": [
            "Total Characters:  163779\n",
            "Total Vocab:  58\n"
          ],
          "name": "stdout"
        }
      ]
    },
    {
      "metadata": {
        "id": "TtKJ7Lfrb_OL",
        "colab_type": "code",
        "colab": {
          "autoexec": {
            "startup": false,
            "wait_interval": 0
          }
        }
      },
      "cell_type": "code",
      "source": [
        "seq_length = 100\n",
        "dataX = []\n",
        "dataY = []\n",
        "for i in range(0, n_chars - seq_length, 1):\n",
        "\tseq_in = raw_text[i:i + seq_length]\n",
        "\tseq_out = raw_text[i + seq_length]\n",
        "\tdataX.append([char_to_int[char] for char in seq_in])\n",
        "\tdataY.append(char_to_int[seq_out])\n",
        "n_patterns = len(dataX)"
      ],
      "execution_count": 0,
      "outputs": []
    },
    {
      "metadata": {
        "id": "5EHgtHd8cDZf",
        "colab_type": "code",
        "colab": {
          "autoexec": {
            "startup": false,
            "wait_interval": 0
          },
          "base_uri": "https://localhost:8080/",
          "height": 35
        },
        "outputId": "1c12672e-8a33-4d0c-a2d3-872c2668bc52",
        "executionInfo": {
          "status": "ok",
          "timestamp": 1526479396040,
          "user_tz": -330,
          "elapsed": 936,
          "user": {
            "displayName": "Anshul Gupta",
            "photoUrl": "//lh3.googleusercontent.com/-XxFOgdcwAIE/AAAAAAAAAAI/AAAAAAAALnc/mu3OjC5SyOU/s50-c-k-no/photo.jpg",
            "userId": "114464935403793017819"
          }
        }
      },
      "cell_type": "code",
      "source": [
        "print (\"Total Patterns: \", n_patterns)"
      ],
      "execution_count": 10,
      "outputs": [
        {
          "output_type": "stream",
          "text": [
            "Total Patterns:  163679\n"
          ],
          "name": "stdout"
        }
      ]
    },
    {
      "metadata": {
        "id": "aVbJ8y68cFZ7",
        "colab_type": "code",
        "colab": {
          "autoexec": {
            "startup": false,
            "wait_interval": 0
          }
        }
      },
      "cell_type": "code",
      "source": [
        "X = numpy.reshape(dataX, (n_patterns, seq_length, 1))"
      ],
      "execution_count": 0,
      "outputs": []
    },
    {
      "metadata": {
        "id": "xPJ5tLqOcG6N",
        "colab_type": "code",
        "colab": {
          "autoexec": {
            "startup": false,
            "wait_interval": 0
          }
        }
      },
      "cell_type": "code",
      "source": [
        "X = X / float(n_vocab)"
      ],
      "execution_count": 0,
      "outputs": []
    },
    {
      "metadata": {
        "id": "RPVuFq6McIce",
        "colab_type": "code",
        "colab": {
          "autoexec": {
            "startup": false,
            "wait_interval": 0
          }
        }
      },
      "cell_type": "code",
      "source": [
        "y = np_utils.to_categorical(dataY)"
      ],
      "execution_count": 0,
      "outputs": []
    },
    {
      "metadata": {
        "id": "t8kuKly0cJ-H",
        "colab_type": "code",
        "colab": {
          "autoexec": {
            "startup": false,
            "wait_interval": 0
          }
        }
      },
      "cell_type": "code",
      "source": [
        "model = Sequential()\n",
        "model.add(LSTM(256, input_shape=(X.shape[1], X.shape[2])))\n",
        "model.add(Dropout(0.2))\n",
        "model.add(Dense(y.shape[1], activation='softmax'))\n",
        "model.compile(loss='categorical_crossentropy', optimizer='adam', metrics=['accuracy'])"
      ],
      "execution_count": 0,
      "outputs": []
    },
    {
      "metadata": {
        "id": "et0AEtH2ccnA",
        "colab_type": "code",
        "colab": {
          "autoexec": {
            "startup": false,
            "wait_interval": 0
          },
          "base_uri": "https://localhost:8080/",
          "height": 2965
        },
        "outputId": "64ff4ddb-31ac-43c9-d642-317952d5e91a",
        "executionInfo": {
          "status": "ok",
          "timestamp": 1526492254374,
          "user_tz": -330,
          "elapsed": 12852533,
          "user": {
            "displayName": "Anshul Gupta",
            "photoUrl": "//lh3.googleusercontent.com/-XxFOgdcwAIE/AAAAAAAAAAI/AAAAAAAALnc/mu3OjC5SyOU/s50-c-k-no/photo.jpg",
            "userId": "114464935403793017819"
          }
        }
      },
      "cell_type": "code",
      "source": [
        "model.fit(X, y, epochs=80, batch_size=256)"
      ],
      "execution_count": 15,
      "outputs": [
        {
          "output_type": "stream",
          "text": [
            "Epoch 1/80\n",
            "163679/163679 [==============================] - 162s 988us/step - loss: 3.0307 - acc: 0.1752\n",
            "Epoch 2/80\n",
            " 47104/163679 [=======>......................] - ETA: 1:54 - loss: 2.9017 - acc: 0.2017"
          ],
          "name": "stdout"
        },
        {
          "output_type": "stream",
          "text": [
            "163679/163679 [==============================] - 160s 980us/step - loss: 2.8573 - acc: 0.2123\n",
            "Epoch 3/80\n",
            " 80384/163679 [=============>................] - ETA: 1:21 - loss: 2.7858 - acc: 0.2300"
          ],
          "name": "stdout"
        },
        {
          "output_type": "stream",
          "text": [
            "163679/163679 [==============================] - 160s 980us/step - loss: 2.7691 - acc: 0.2341\n",
            "Epoch 4/80\n",
            " 95488/163679 [================>.............] - ETA: 1:07 - loss: 2.7259 - acc: 0.2425"
          ],
          "name": "stdout"
        },
        {
          "output_type": "stream",
          "text": [
            "163679/163679 [==============================] - 162s 987us/step - loss: 2.7157 - acc: 0.2445\n",
            "Epoch 5/80\n",
            "102400/163679 [=================>............] - ETA: 1:00 - loss: 2.6686 - acc: 0.2546"
          ],
          "name": "stdout"
        },
        {
          "output_type": "stream",
          "text": [
            "163679/163679 [==============================] - 161s 983us/step - loss: 2.6612 - acc: 0.2555\n",
            "Epoch 6/80\n",
            "105472/163679 [==================>...........] - ETA: 57s - loss: 2.6123 - acc: 0.2664"
          ],
          "name": "stdout"
        },
        {
          "output_type": "stream",
          "text": [
            "163679/163679 [==============================] - 161s 983us/step - loss: 2.6114 - acc: 0.2657\n",
            "Epoch 7/80\n",
            "106752/163679 [==================>...........] - ETA: 55s - loss: 2.5768 - acc: 0.2735"
          ],
          "name": "stdout"
        },
        {
          "output_type": "stream",
          "text": [
            "163679/163679 [==============================] - 161s 981us/step - loss: 2.5688 - acc: 0.2761\n",
            "Epoch 8/80\n",
            "107520/163679 [==================>...........] - ETA: 54s - loss: 2.5323 - acc: 0.2843"
          ],
          "name": "stdout"
        },
        {
          "output_type": "stream",
          "text": [
            "163679/163679 [==============================] - 160s 980us/step - loss: 2.5260 - acc: 0.2860\n",
            "Epoch 9/80\n",
            "107776/163679 [==================>...........] - ETA: 54s - loss: 2.4887 - acc: 0.2949"
          ],
          "name": "stdout"
        },
        {
          "output_type": "stream",
          "text": [
            "163679/163679 [==============================] - 161s 982us/step - loss: 2.4850 - acc: 0.2964\n",
            "Epoch 10/80\n",
            "107264/163679 [==================>...........] - ETA: 55s - loss: 2.4476 - acc: 0.3052"
          ],
          "name": "stdout"
        },
        {
          "output_type": "stream",
          "text": [
            "163679/163679 [==============================] - 160s 980us/step - loss: 2.4443 - acc: 0.3062\n",
            "Epoch 11/80\n",
            "107008/163679 [==================>...........] - ETA: 55s - loss: 2.4155 - acc: 0.3132"
          ],
          "name": "stdout"
        },
        {
          "output_type": "stream",
          "text": [
            "163679/163679 [==============================] - 161s 983us/step - loss: 2.4095 - acc: 0.3149\n",
            "Epoch 12/80\n",
            "107008/163679 [==================>...........] - ETA: 55s - loss: 2.3801 - acc: 0.3199"
          ],
          "name": "stdout"
        },
        {
          "output_type": "stream",
          "text": [
            "163679/163679 [==============================] - 161s 986us/step - loss: 2.3751 - acc: 0.3224\n",
            "Epoch 13/80\n",
            "107008/163679 [==================>...........] - ETA: 55s - loss: 2.3455 - acc: 0.3301"
          ],
          "name": "stdout"
        },
        {
          "output_type": "stream",
          "text": [
            "163679/163679 [==============================] - 161s 982us/step - loss: 2.3432 - acc: 0.3311\n",
            "Epoch 14/80\n",
            "107008/163679 [==================>...........] - ETA: 55s - loss: 2.3080 - acc: 0.3388"
          ],
          "name": "stdout"
        },
        {
          "output_type": "stream",
          "text": [
            "163679/163679 [==============================] - 162s 987us/step - loss: 2.3103 - acc: 0.3392\n",
            "Epoch 15/80\n",
            "107008/163679 [==================>...........] - ETA: 55s - loss: 2.2785 - acc: 0.3474"
          ],
          "name": "stdout"
        },
        {
          "output_type": "stream",
          "text": [
            "163679/163679 [==============================] - 161s 984us/step - loss: 2.2804 - acc: 0.3474\n",
            "Epoch 16/80\n",
            "107008/163679 [==================>...........] - ETA: 55s - loss: 2.2543 - acc: 0.3525"
          ],
          "name": "stdout"
        },
        {
          "output_type": "stream",
          "text": [
            "163679/163679 [==============================] - 162s 987us/step - loss: 2.2527 - acc: 0.3537\n",
            "Epoch 17/80\n",
            "107008/163679 [==================>...........] - ETA: 55s - loss: 2.2230 - acc: 0.3597"
          ],
          "name": "stdout"
        },
        {
          "output_type": "stream",
          "text": [
            "163679/163679 [==============================] - 161s 983us/step - loss: 2.2249 - acc: 0.3597\n",
            "Epoch 18/80\n",
            "107008/163679 [==================>...........] - ETA: 55s - loss: 2.1975 - acc: 0.3686"
          ],
          "name": "stdout"
        },
        {
          "output_type": "stream",
          "text": [
            "163679/163679 [==============================] - 161s 985us/step - loss: 2.1957 - acc: 0.3691\n",
            "Epoch 19/80\n",
            "107008/163679 [==================>...........] - ETA: 55s - loss: 2.1697 - acc: 0.3748"
          ],
          "name": "stdout"
        },
        {
          "output_type": "stream",
          "text": [
            "163679/163679 [==============================] - 161s 986us/step - loss: 2.1738 - acc: 0.3735\n",
            "Epoch 20/80\n",
            "107008/163679 [==================>...........] - ETA: 55s - loss: 2.1441 - acc: 0.3795"
          ],
          "name": "stdout"
        },
        {
          "output_type": "stream",
          "text": [
            "163679/163679 [==============================] - 162s 988us/step - loss: 2.1481 - acc: 0.3793\n",
            "Epoch 21/80\n",
            "107008/163679 [==================>...........] - ETA: 55s - loss: 2.1201 - acc: 0.3861"
          ],
          "name": "stdout"
        },
        {
          "output_type": "stream",
          "text": [
            "163679/163679 [==============================] - 162s 987us/step - loss: 2.1250 - acc: 0.3861\n",
            "Epoch 22/80\n",
            "107008/163679 [==================>...........] - ETA: 55s - loss: 2.1063 - acc: 0.3909"
          ],
          "name": "stdout"
        },
        {
          "output_type": "stream",
          "text": [
            "163679/163679 [==============================] - 161s 984us/step - loss: 2.1038 - acc: 0.3907\n",
            "Epoch 23/80\n",
            "107008/163679 [==================>...........] - ETA: 55s - loss: 2.0828 - acc: 0.3970"
          ],
          "name": "stdout"
        },
        {
          "output_type": "stream",
          "text": [
            "163679/163679 [==============================] - 162s 987us/step - loss: 2.0819 - acc: 0.3976\n",
            "Epoch 24/80\n",
            "107008/163679 [==================>...........] - ETA: 55s - loss: 2.0584 - acc: 0.4024"
          ],
          "name": "stdout"
        },
        {
          "output_type": "stream",
          "text": [
            "163679/163679 [==============================] - 160s 979us/step - loss: 2.0625 - acc: 0.4015\n",
            "Epoch 25/80\n",
            "107008/163679 [==================>...........] - ETA: 55s - loss: 2.0456 - acc: 0.4050"
          ],
          "name": "stdout"
        },
        {
          "output_type": "stream",
          "text": [
            "163679/163679 [==============================] - 160s 980us/step - loss: 2.0452 - acc: 0.4050\n",
            "Epoch 26/80\n",
            "107008/163679 [==================>...........] - ETA: 55s - loss: 2.0186 - acc: 0.4129"
          ],
          "name": "stdout"
        },
        {
          "output_type": "stream",
          "text": [
            "163679/163679 [==============================] - 159s 973us/step - loss: 2.0235 - acc: 0.4122\n",
            "Epoch 27/80\n",
            "107008/163679 [==================>...........] - ETA: 54s - loss: 1.9963 - acc: 0.4188"
          ],
          "name": "stdout"
        },
        {
          "output_type": "stream",
          "text": [
            "163679/163679 [==============================] - 159s 970us/step - loss: 2.0045 - acc: 0.4172\n",
            "Epoch 28/80\n",
            "107008/163679 [==================>...........] - ETA: 55s - loss: 1.9811 - acc: 0.4211"
          ],
          "name": "stdout"
        },
        {
          "output_type": "stream",
          "text": [
            "163679/163679 [==============================] - 159s 974us/step - loss: 1.9883 - acc: 0.4200\n",
            "Epoch 29/80\n",
            "107008/163679 [==================>...........] - ETA: 55s - loss: 1.9651 - acc: 0.4268"
          ],
          "name": "stdout"
        },
        {
          "output_type": "stream",
          "text": [
            "163679/163679 [==============================] - 160s 976us/step - loss: 1.9719 - acc: 0.4249\n",
            "Epoch 30/80\n",
            "107008/163679 [==================>...........] - ETA: 55s - loss: 1.9477 - acc: 0.4309"
          ],
          "name": "stdout"
        },
        {
          "output_type": "stream",
          "text": [
            "163679/163679 [==============================] - 159s 974us/step - loss: 1.9527 - acc: 0.4298\n",
            "Epoch 31/80\n",
            "107008/163679 [==================>...........] - ETA: 55s - loss: 1.9452 - acc: 0.4333"
          ],
          "name": "stdout"
        },
        {
          "output_type": "stream",
          "text": [
            "163679/163679 [==============================] - 160s 977us/step - loss: 1.9462 - acc: 0.4326\n",
            "Epoch 32/80\n",
            "107008/163679 [==================>...........] - ETA: 55s - loss: 1.9279 - acc: 0.4375"
          ],
          "name": "stdout"
        },
        {
          "output_type": "stream",
          "text": [
            "163679/163679 [==============================] - 160s 979us/step - loss: 1.9292 - acc: 0.4375\n",
            "Epoch 33/80\n",
            "107008/163679 [==================>...........] - ETA: 55s - loss: 1.9033 - acc: 0.4418"
          ],
          "name": "stdout"
        },
        {
          "output_type": "stream",
          "text": [
            "163679/163679 [==============================] - 160s 977us/step - loss: 1.9124 - acc: 0.4395\n",
            "Epoch 34/80\n",
            "107008/163679 [==================>...........] - ETA: 55s - loss: 1.8917 - acc: 0.4470"
          ],
          "name": "stdout"
        },
        {
          "output_type": "stream",
          "text": [
            "163679/163679 [==============================] - 160s 978us/step - loss: 1.9000 - acc: 0.4444\n",
            "Epoch 35/80\n",
            "107008/163679 [==================>...........] - ETA: 55s - loss: 1.8815 - acc: 0.4491"
          ],
          "name": "stdout"
        },
        {
          "output_type": "stream",
          "text": [
            "163679/163679 [==============================] - 160s 977us/step - loss: 1.8920 - acc: 0.4461\n",
            "Epoch 36/80\n",
            "107008/163679 [==================>...........] - ETA: 55s - loss: 1.8742 - acc: 0.4500"
          ],
          "name": "stdout"
        },
        {
          "output_type": "stream",
          "text": [
            "163679/163679 [==============================] - 159s 974us/step - loss: 1.8770 - acc: 0.4500\n",
            "Epoch 37/80\n",
            "107008/163679 [==================>...........] - ETA: 55s - loss: 1.8631 - acc: 0.4519"
          ],
          "name": "stdout"
        },
        {
          "output_type": "stream",
          "text": [
            "163679/163679 [==============================] - 159s 973us/step - loss: 1.8669 - acc: 0.4511\n",
            "Epoch 38/80\n",
            "107008/163679 [==================>...........] - ETA: 55s - loss: 1.8494 - acc: 0.4568"
          ],
          "name": "stdout"
        },
        {
          "output_type": "stream",
          "text": [
            "163679/163679 [==============================] - 160s 978us/step - loss: 1.8557 - acc: 0.4550\n",
            "Epoch 39/80\n",
            "107008/163679 [==================>...........] - ETA: 55s - loss: 1.8398 - acc: 0.4585"
          ],
          "name": "stdout"
        },
        {
          "output_type": "stream",
          "text": [
            "163679/163679 [==============================] - 161s 982us/step - loss: 1.8452 - acc: 0.4574\n",
            "Epoch 40/80\n",
            "107008/163679 [==================>...........] - ETA: 55s - loss: 1.8260 - acc: 0.4632"
          ],
          "name": "stdout"
        },
        {
          "output_type": "stream",
          "text": [
            "163679/163679 [==============================] - 161s 983us/step - loss: 1.8342 - acc: 0.4606\n",
            "Epoch 41/80\n",
            "107008/163679 [==================>...........] - ETA: 55s - loss: 1.8168 - acc: 0.4644"
          ],
          "name": "stdout"
        },
        {
          "output_type": "stream",
          "text": [
            "163679/163679 [==============================] - 161s 983us/step - loss: 1.8245 - acc: 0.4627\n",
            "Epoch 42/80\n",
            "107008/163679 [==================>...........] - ETA: 55s - loss: 1.8045 - acc: 0.4664"
          ],
          "name": "stdout"
        },
        {
          "output_type": "stream",
          "text": [
            "163679/163679 [==============================] - 160s 978us/step - loss: 1.8117 - acc: 0.4658\n",
            "Epoch 43/80\n",
            "107008/163679 [==================>...........] - ETA: 55s - loss: 1.7948 - acc: 0.4720"
          ],
          "name": "stdout"
        },
        {
          "output_type": "stream",
          "text": [
            "163679/163679 [==============================] - 161s 984us/step - loss: 1.8071 - acc: 0.4683\n",
            "Epoch 44/80\n",
            "107008/163679 [==================>...........] - ETA: 55s - loss: 1.7909 - acc: 0.4704"
          ],
          "name": "stdout"
        },
        {
          "output_type": "stream",
          "text": [
            "163679/163679 [==============================] - 161s 981us/step - loss: 1.8016 - acc: 0.4682\n",
            "Epoch 45/80\n",
            "107008/163679 [==================>...........] - ETA: 55s - loss: 1.7840 - acc: 0.4748"
          ],
          "name": "stdout"
        },
        {
          "output_type": "stream",
          "text": [
            "163679/163679 [==============================] - 160s 979us/step - loss: 1.7912 - acc: 0.4724\n",
            "Epoch 46/80\n",
            "107008/163679 [==================>...........] - ETA: 55s - loss: 1.7766 - acc: 0.4742"
          ],
          "name": "stdout"
        },
        {
          "output_type": "stream",
          "text": [
            "163679/163679 [==============================] - 161s 983us/step - loss: 1.7815 - acc: 0.4733\n",
            "Epoch 47/80\n",
            "107008/163679 [==================>...........] - ETA: 55s - loss: 1.7712 - acc: 0.4779"
          ],
          "name": "stdout"
        },
        {
          "output_type": "stream",
          "text": [
            "163679/163679 [==============================] - 161s 985us/step - loss: 1.7838 - acc: 0.4736\n",
            "Epoch 48/80\n",
            "107008/163679 [==================>...........] - ETA: 55s - loss: 1.7616 - acc: 0.4789"
          ],
          "name": "stdout"
        },
        {
          "output_type": "stream",
          "text": [
            "163679/163679 [==============================] - 160s 980us/step - loss: 1.7668 - acc: 0.4770\n",
            "Epoch 49/80\n",
            "107008/163679 [==================>...........] - ETA: 55s - loss: 1.7478 - acc: 0.4840"
          ],
          "name": "stdout"
        },
        {
          "output_type": "stream",
          "text": [
            "163679/163679 [==============================] - 161s 982us/step - loss: 1.7608 - acc: 0.4799\n",
            "Epoch 50/80\n",
            "107008/163679 [==================>...........] - ETA: 55s - loss: 1.7538 - acc: 0.4810"
          ],
          "name": "stdout"
        },
        {
          "output_type": "stream",
          "text": [
            "163679/163679 [==============================] - 161s 983us/step - loss: 1.7594 - acc: 0.4797\n",
            "Epoch 51/80\n",
            "107008/163679 [==================>...........] - ETA: 55s - loss: 1.7418 - acc: 0.4854"
          ],
          "name": "stdout"
        },
        {
          "output_type": "stream",
          "text": [
            "163679/163679 [==============================] - 161s 981us/step - loss: 1.7469 - acc: 0.4832\n",
            "Epoch 52/80\n",
            "107008/163679 [==================>...........] - ETA: 55s - loss: 1.7344 - acc: 0.4861"
          ],
          "name": "stdout"
        },
        {
          "output_type": "stream",
          "text": [
            "163679/163679 [==============================] - 161s 985us/step - loss: 1.7407 - acc: 0.4848\n",
            "Epoch 53/80\n",
            "107008/163679 [==================>...........] - ETA: 55s - loss: 1.7240 - acc: 0.4891"
          ],
          "name": "stdout"
        },
        {
          "output_type": "stream",
          "text": [
            "163679/163679 [==============================] - 161s 983us/step - loss: 1.7342 - acc: 0.4866\n",
            "Epoch 54/80\n",
            "107008/163679 [==================>...........] - ETA: 55s - loss: 1.7147 - acc: 0.4906"
          ],
          "name": "stdout"
        },
        {
          "output_type": "stream",
          "text": [
            "163679/163679 [==============================] - 161s 986us/step - loss: 1.7253 - acc: 0.4882\n",
            "Epoch 55/80\n",
            "107008/163679 [==================>...........] - ETA: 55s - loss: 1.7173 - acc: 0.4913"
          ],
          "name": "stdout"
        },
        {
          "output_type": "stream",
          "text": [
            "163679/163679 [==============================] - 161s 985us/step - loss: 1.7233 - acc: 0.4901\n",
            "Epoch 56/80\n",
            "107008/163679 [==================>...........] - ETA: 55s - loss: 1.7013 - acc: 0.4949"
          ],
          "name": "stdout"
        },
        {
          "output_type": "stream",
          "text": [
            "163679/163679 [==============================] - 161s 981us/step - loss: 1.7153 - acc: 0.4905\n",
            "Epoch 57/80\n",
            "107008/163679 [==================>...........] - ETA: 55s - loss: 1.6993 - acc: 0.4942"
          ],
          "name": "stdout"
        },
        {
          "output_type": "stream",
          "text": [
            "163679/163679 [==============================] - 160s 980us/step - loss: 1.7115 - acc: 0.4907\n",
            "Epoch 58/80\n",
            "107008/163679 [==================>...........] - ETA: 55s - loss: 1.6969 - acc: 0.4979"
          ],
          "name": "stdout"
        },
        {
          "output_type": "stream",
          "text": [
            "163679/163679 [==============================] - 161s 985us/step - loss: 1.7014 - acc: 0.4956\n",
            "Epoch 59/80\n",
            "107008/163679 [==================>...........] - ETA: 55s - loss: 1.6888 - acc: 0.4977"
          ],
          "name": "stdout"
        },
        {
          "output_type": "stream",
          "text": [
            "163679/163679 [==============================] - 161s 983us/step - loss: 1.7058 - acc: 0.4936\n",
            "Epoch 60/80\n",
            "107008/163679 [==================>...........] - ETA: 55s - loss: 1.7042 - acc: 0.4943"
          ],
          "name": "stdout"
        },
        {
          "output_type": "stream",
          "text": [
            "163679/163679 [==============================] - 161s 985us/step - loss: 1.7082 - acc: 0.4938\n",
            "Epoch 61/80\n",
            "107008/163679 [==================>...........] - ETA: 55s - loss: 1.6812 - acc: 0.4990"
          ],
          "name": "stdout"
        },
        {
          "output_type": "stream",
          "text": [
            "163679/163679 [==============================] - 161s 985us/step - loss: 1.6884 - acc: 0.4973\n",
            "Epoch 62/80\n",
            "107008/163679 [==================>...........] - ETA: 55s - loss: 1.6658 - acc: 0.5041"
          ],
          "name": "stdout"
        },
        {
          "output_type": "stream",
          "text": [
            "163679/163679 [==============================] - 161s 986us/step - loss: 1.6776 - acc: 0.5016\n",
            "Epoch 63/80\n",
            "107008/163679 [==================>...........] - ETA: 55s - loss: 1.6672 - acc: 0.5032"
          ],
          "name": "stdout"
        },
        {
          "output_type": "stream",
          "text": [
            "163679/163679 [==============================] - 160s 980us/step - loss: 1.6776 - acc: 0.5013\n",
            "Epoch 64/80\n",
            "107008/163679 [==================>...........] - ETA: 54s - loss: 1.6762 - acc: 0.5019"
          ],
          "name": "stdout"
        },
        {
          "output_type": "stream",
          "text": [
            "163679/163679 [==============================] - 159s 969us/step - loss: 1.6793 - acc: 0.5007\n",
            "Epoch 65/80\n",
            "107008/163679 [==================>...........] - ETA: 55s - loss: 1.6588 - acc: 0.5055"
          ],
          "name": "stdout"
        },
        {
          "output_type": "stream",
          "text": [
            "163679/163679 [==============================] - 160s 975us/step - loss: 1.6661 - acc: 0.5034\n",
            "Epoch 66/80\n",
            "107008/163679 [==================>...........] - ETA: 55s - loss: 1.6667 - acc: 0.5038"
          ],
          "name": "stdout"
        },
        {
          "output_type": "stream",
          "text": [
            "163679/163679 [==============================] - 160s 980us/step - loss: 1.6794 - acc: 0.5005\n",
            "Epoch 67/80\n",
            "107008/163679 [==================>...........] - ETA: 55s - loss: 1.6487 - acc: 0.5083"
          ],
          "name": "stdout"
        },
        {
          "output_type": "stream",
          "text": [
            "163679/163679 [==============================] - 160s 979us/step - loss: 1.6602 - acc: 0.5050\n",
            "Epoch 68/80\n",
            "107008/163679 [==================>...........] - ETA: 55s - loss: 1.6505 - acc: 0.5066"
          ],
          "name": "stdout"
        },
        {
          "output_type": "stream",
          "text": [
            "163679/163679 [==============================] - 161s 987us/step - loss: 1.6590 - acc: 0.5049\n",
            "Epoch 69/80\n",
            "107008/163679 [==================>...........] - ETA: 55s - loss: 1.6571 - acc: 0.5071"
          ],
          "name": "stdout"
        },
        {
          "output_type": "stream",
          "text": [
            "163679/163679 [==============================] - 161s 983us/step - loss: 1.6593 - acc: 0.5063\n",
            "Epoch 70/80\n",
            "107008/163679 [==================>...........] - ETA: 55s - loss: 1.6290 - acc: 0.5123"
          ],
          "name": "stdout"
        },
        {
          "output_type": "stream",
          "text": [
            "163679/163679 [==============================] - 161s 982us/step - loss: 1.6416 - acc: 0.5097\n",
            "Epoch 71/80\n",
            "107008/163679 [==================>...........] - ETA: 55s - loss: 1.6378 - acc: 0.5121"
          ],
          "name": "stdout"
        },
        {
          "output_type": "stream",
          "text": [
            "163679/163679 [==============================] - 161s 981us/step - loss: 1.6460 - acc: 0.5088\n",
            "Epoch 72/80\n",
            "107008/163679 [==================>...........] - ETA: 55s - loss: 1.6284 - acc: 0.5139"
          ],
          "name": "stdout"
        },
        {
          "output_type": "stream",
          "text": [
            "163679/163679 [==============================] - 161s 981us/step - loss: 1.6444 - acc: 0.5101\n",
            "Epoch 73/80\n",
            "107008/163679 [==================>...........] - ETA: 55s - loss: 1.6270 - acc: 0.5143"
          ],
          "name": "stdout"
        },
        {
          "output_type": "stream",
          "text": [
            "163679/163679 [==============================] - 161s 982us/step - loss: 1.6352 - acc: 0.5117\n",
            "Epoch 74/80\n",
            "107008/163679 [==================>...........] - ETA: 55s - loss: 1.6167 - acc: 0.5162"
          ],
          "name": "stdout"
        },
        {
          "output_type": "stream",
          "text": [
            "163679/163679 [==============================] - 161s 982us/step - loss: 1.6279 - acc: 0.5139\n",
            "Epoch 75/80\n",
            "107008/163679 [==================>...........] - ETA: 55s - loss: 1.6173 - acc: 0.5167"
          ],
          "name": "stdout"
        },
        {
          "output_type": "stream",
          "text": [
            "163679/163679 [==============================] - 160s 978us/step - loss: 1.6265 - acc: 0.5139\n",
            "Epoch 76/80\n",
            "107008/163679 [==================>...........] - ETA: 55s - loss: 1.6089 - acc: 0.5178"
          ],
          "name": "stdout"
        },
        {
          "output_type": "stream",
          "text": [
            "163679/163679 [==============================] - 161s 981us/step - loss: 1.6227 - acc: 0.5147\n",
            "Epoch 77/80\n",
            "107008/163679 [==================>...........] - ETA: 55s - loss: 1.6185 - acc: 0.5160"
          ],
          "name": "stdout"
        },
        {
          "output_type": "stream",
          "text": [
            "163679/163679 [==============================] - 161s 984us/step - loss: 1.6452 - acc: 0.5092\n",
            "Epoch 78/80\n",
            "107008/163679 [==================>...........] - ETA: 55s - loss: 1.6180 - acc: 0.5161"
          ],
          "name": "stdout"
        },
        {
          "output_type": "stream",
          "text": [
            "163679/163679 [==============================] - 161s 981us/step - loss: 1.6246 - acc: 0.5142\n",
            "Epoch 79/80\n",
            "107008/163679 [==================>...........] - ETA: 55s - loss: 1.6009 - acc: 0.5206"
          ],
          "name": "stdout"
        },
        {
          "output_type": "stream",
          "text": [
            "163679/163679 [==============================] - 160s 979us/step - loss: 1.6097 - acc: 0.5179\n",
            "Epoch 80/80\n",
            "107008/163679 [==================>...........] - ETA: 55s - loss: 1.5953 - acc: 0.5220"
          ],
          "name": "stdout"
        },
        {
          "output_type": "stream",
          "text": [
            "163679/163679 [==============================] - 161s 982us/step - loss: 1.6044 - acc: 0.5192\n"
          ],
          "name": "stdout"
        },
        {
          "output_type": "execute_result",
          "data": {
            "text/plain": [
              "<keras.callbacks.History at 0x7f13c89ceac8>"
            ]
          },
          "metadata": {
            "tags": []
          },
          "execution_count": 15
        }
      ]
    },
    {
      "metadata": {
        "id": "VCQYoNTlce5X",
        "colab_type": "code",
        "colab": {
          "autoexec": {
            "startup": false,
            "wait_interval": 0
          },
          "base_uri": "https://localhost:8080/",
          "height": 35
        },
        "outputId": "946e9b4a-1af4-4615-8a03-6445cfb135ac",
        "executionInfo": {
          "status": "ok",
          "timestamp": 1526492258375,
          "user_tz": -330,
          "elapsed": 3892,
          "user": {
            "displayName": "Anshul Gupta",
            "photoUrl": "//lh3.googleusercontent.com/-XxFOgdcwAIE/AAAAAAAAAAI/AAAAAAAALnc/mu3OjC5SyOU/s50-c-k-no/photo.jpg",
            "userId": "114464935403793017819"
          }
        }
      },
      "cell_type": "code",
      "source": [
        "model_json=model.to_json()\n",
        "with open(\"drive/Machine_Learning/model.json\", \"w\") as json_file:\n",
        "  json_file.write(model_json)\n",
        "model.save_weights(\"drive/Machine_Learning/model.h5\")\n",
        "print(\"Saved model to disk\")"
      ],
      "execution_count": 16,
      "outputs": [
        {
          "output_type": "stream",
          "text": [
            "Saved model to disk\n"
          ],
          "name": "stdout"
        }
      ]
    },
    {
      "metadata": {
        "id": "CPKidPf5cszt",
        "colab_type": "code",
        "colab": {
          "autoexec": {
            "startup": false,
            "wait_interval": 0
          }
        }
      },
      "cell_type": "code",
      "source": [
        "int_to_char = dict((i, c) for i, c in enumerate(chars))"
      ],
      "execution_count": 0,
      "outputs": []
    },
    {
      "metadata": {
        "id": "IzFJIPaX_zMy",
        "colab_type": "code",
        "colab": {
          "autoexec": {
            "startup": false,
            "wait_interval": 0
          },
          "base_uri": "https://localhost:8080/",
          "height": 736
        },
        "outputId": "a0b2b3e3-2780-44aa-b8e9-696f25b858d2",
        "executionInfo": {
          "status": "error",
          "timestamp": 1526492260808,
          "user_tz": -330,
          "elapsed": 1321,
          "user": {
            "displayName": "Anshul Gupta",
            "photoUrl": "//lh3.googleusercontent.com/-XxFOgdcwAIE/AAAAAAAAAAI/AAAAAAAALnc/mu3OjC5SyOU/s50-c-k-no/photo.jpg",
            "userId": "114464935403793017819"
          }
        }
      },
      "cell_type": "code",
      "source": [
        "json_file = open('drive/Machine_Learning/model.json', 'r')\n",
        "loaded_model_json = json_file.read()\n",
        "json_file.close()\n",
        "model = model_from_json(loaded_model_json)\n",
        "model.load_weights(\"model.h5\")\n",
        "print(\"Loaded model from disk\")"
      ],
      "execution_count": 18,
      "outputs": [
        {
          "output_type": "error",
          "ename": "OSError",
          "evalue": "ignored",
          "traceback": [
            "\u001b[0;31m---------------------------------------------------------------------------\u001b[0m",
            "\u001b[0;31mOSError\u001b[0m                                   Traceback (most recent call last)",
            "\u001b[0;32m<ipython-input-18-0b02eb18fc6e>\u001b[0m in \u001b[0;36m<module>\u001b[0;34m()\u001b[0m\n\u001b[1;32m      3\u001b[0m \u001b[0mjson_file\u001b[0m\u001b[0;34m.\u001b[0m\u001b[0mclose\u001b[0m\u001b[0;34m(\u001b[0m\u001b[0;34m)\u001b[0m\u001b[0;34m\u001b[0m\u001b[0m\n\u001b[1;32m      4\u001b[0m \u001b[0mmodel\u001b[0m \u001b[0;34m=\u001b[0m \u001b[0mmodel_from_json\u001b[0m\u001b[0;34m(\u001b[0m\u001b[0mloaded_model_json\u001b[0m\u001b[0;34m)\u001b[0m\u001b[0;34m\u001b[0m\u001b[0m\n\u001b[0;32m----> 5\u001b[0;31m \u001b[0mmodel\u001b[0m\u001b[0;34m.\u001b[0m\u001b[0mload_weights\u001b[0m\u001b[0;34m(\u001b[0m\u001b[0;34m\"model.h5\"\u001b[0m\u001b[0;34m)\u001b[0m\u001b[0;34m\u001b[0m\u001b[0m\n\u001b[0m\u001b[1;32m      6\u001b[0m \u001b[0mprint\u001b[0m\u001b[0;34m(\u001b[0m\u001b[0;34m\"Loaded model from disk\"\u001b[0m\u001b[0;34m)\u001b[0m\u001b[0;34m\u001b[0m\u001b[0m\n",
            "\u001b[0;32m/usr/local/lib/python3.6/dist-packages/keras/models.py\u001b[0m in \u001b[0;36mload_weights\u001b[0;34m(self, filepath, by_name, skip_mismatch, reshape)\u001b[0m\n\u001b[1;32m    752\u001b[0m         \u001b[0;32mif\u001b[0m \u001b[0mh5py\u001b[0m \u001b[0;32mis\u001b[0m \u001b[0;32mNone\u001b[0m\u001b[0;34m:\u001b[0m\u001b[0;34m\u001b[0m\u001b[0m\n\u001b[1;32m    753\u001b[0m             \u001b[0;32mraise\u001b[0m \u001b[0mImportError\u001b[0m\u001b[0;34m(\u001b[0m\u001b[0;34m'`load_weights` requires h5py.'\u001b[0m\u001b[0;34m)\u001b[0m\u001b[0;34m\u001b[0m\u001b[0m\n\u001b[0;32m--> 754\u001b[0;31m         \u001b[0;32mwith\u001b[0m \u001b[0mh5py\u001b[0m\u001b[0;34m.\u001b[0m\u001b[0mFile\u001b[0m\u001b[0;34m(\u001b[0m\u001b[0mfilepath\u001b[0m\u001b[0;34m,\u001b[0m \u001b[0mmode\u001b[0m\u001b[0;34m=\u001b[0m\u001b[0;34m'r'\u001b[0m\u001b[0;34m)\u001b[0m \u001b[0;32mas\u001b[0m \u001b[0mf\u001b[0m\u001b[0;34m:\u001b[0m\u001b[0;34m\u001b[0m\u001b[0m\n\u001b[0m\u001b[1;32m    755\u001b[0m             \u001b[0;32mif\u001b[0m \u001b[0;34m'layer_names'\u001b[0m \u001b[0;32mnot\u001b[0m \u001b[0;32min\u001b[0m \u001b[0mf\u001b[0m\u001b[0;34m.\u001b[0m\u001b[0mattrs\u001b[0m \u001b[0;32mand\u001b[0m \u001b[0;34m'model_weights'\u001b[0m \u001b[0;32min\u001b[0m \u001b[0mf\u001b[0m\u001b[0;34m:\u001b[0m\u001b[0;34m\u001b[0m\u001b[0m\n\u001b[1;32m    756\u001b[0m                 \u001b[0mf\u001b[0m \u001b[0;34m=\u001b[0m \u001b[0mf\u001b[0m\u001b[0;34m[\u001b[0m\u001b[0;34m'model_weights'\u001b[0m\u001b[0;34m]\u001b[0m\u001b[0;34m\u001b[0m\u001b[0m\n",
            "\u001b[0;32m/usr/local/lib/python3.6/dist-packages/h5py/_hl/files.py\u001b[0m in \u001b[0;36m__init__\u001b[0;34m(self, name, mode, driver, libver, userblock_size, swmr, **kwds)\u001b[0m\n\u001b[1;32m    267\u001b[0m             \u001b[0;32mwith\u001b[0m \u001b[0mphil\u001b[0m\u001b[0;34m:\u001b[0m\u001b[0;34m\u001b[0m\u001b[0m\n\u001b[1;32m    268\u001b[0m                 \u001b[0mfapl\u001b[0m \u001b[0;34m=\u001b[0m \u001b[0mmake_fapl\u001b[0m\u001b[0;34m(\u001b[0m\u001b[0mdriver\u001b[0m\u001b[0;34m,\u001b[0m \u001b[0mlibver\u001b[0m\u001b[0;34m,\u001b[0m \u001b[0;34m**\u001b[0m\u001b[0mkwds\u001b[0m\u001b[0;34m)\u001b[0m\u001b[0;34m\u001b[0m\u001b[0m\n\u001b[0;32m--> 269\u001b[0;31m                 \u001b[0mfid\u001b[0m \u001b[0;34m=\u001b[0m \u001b[0mmake_fid\u001b[0m\u001b[0;34m(\u001b[0m\u001b[0mname\u001b[0m\u001b[0;34m,\u001b[0m \u001b[0mmode\u001b[0m\u001b[0;34m,\u001b[0m \u001b[0muserblock_size\u001b[0m\u001b[0;34m,\u001b[0m \u001b[0mfapl\u001b[0m\u001b[0;34m,\u001b[0m \u001b[0mswmr\u001b[0m\u001b[0;34m=\u001b[0m\u001b[0mswmr\u001b[0m\u001b[0;34m)\u001b[0m\u001b[0;34m\u001b[0m\u001b[0m\n\u001b[0m\u001b[1;32m    270\u001b[0m \u001b[0;34m\u001b[0m\u001b[0m\n\u001b[1;32m    271\u001b[0m                 \u001b[0;32mif\u001b[0m \u001b[0mswmr_support\u001b[0m\u001b[0;34m:\u001b[0m\u001b[0;34m\u001b[0m\u001b[0m\n",
            "\u001b[0;32m/usr/local/lib/python3.6/dist-packages/h5py/_hl/files.py\u001b[0m in \u001b[0;36mmake_fid\u001b[0;34m(name, mode, userblock_size, fapl, fcpl, swmr)\u001b[0m\n\u001b[1;32m     97\u001b[0m         \u001b[0;32mif\u001b[0m \u001b[0mswmr\u001b[0m \u001b[0;32mand\u001b[0m \u001b[0mswmr_support\u001b[0m\u001b[0;34m:\u001b[0m\u001b[0;34m\u001b[0m\u001b[0m\n\u001b[1;32m     98\u001b[0m             \u001b[0mflags\u001b[0m \u001b[0;34m|=\u001b[0m \u001b[0mh5f\u001b[0m\u001b[0;34m.\u001b[0m\u001b[0mACC_SWMR_READ\u001b[0m\u001b[0;34m\u001b[0m\u001b[0m\n\u001b[0;32m---> 99\u001b[0;31m         \u001b[0mfid\u001b[0m \u001b[0;34m=\u001b[0m \u001b[0mh5f\u001b[0m\u001b[0;34m.\u001b[0m\u001b[0mopen\u001b[0m\u001b[0;34m(\u001b[0m\u001b[0mname\u001b[0m\u001b[0;34m,\u001b[0m \u001b[0mflags\u001b[0m\u001b[0;34m,\u001b[0m \u001b[0mfapl\u001b[0m\u001b[0;34m=\u001b[0m\u001b[0mfapl\u001b[0m\u001b[0;34m)\u001b[0m\u001b[0;34m\u001b[0m\u001b[0m\n\u001b[0m\u001b[1;32m    100\u001b[0m     \u001b[0;32melif\u001b[0m \u001b[0mmode\u001b[0m \u001b[0;34m==\u001b[0m \u001b[0;34m'r+'\u001b[0m\u001b[0;34m:\u001b[0m\u001b[0;34m\u001b[0m\u001b[0m\n\u001b[1;32m    101\u001b[0m         \u001b[0mfid\u001b[0m \u001b[0;34m=\u001b[0m \u001b[0mh5f\u001b[0m\u001b[0;34m.\u001b[0m\u001b[0mopen\u001b[0m\u001b[0;34m(\u001b[0m\u001b[0mname\u001b[0m\u001b[0;34m,\u001b[0m \u001b[0mh5f\u001b[0m\u001b[0;34m.\u001b[0m\u001b[0mACC_RDWR\u001b[0m\u001b[0;34m,\u001b[0m \u001b[0mfapl\u001b[0m\u001b[0;34m=\u001b[0m\u001b[0mfapl\u001b[0m\u001b[0;34m)\u001b[0m\u001b[0;34m\u001b[0m\u001b[0m\n",
            "\u001b[0;32mh5py/_objects.pyx\u001b[0m in \u001b[0;36mh5py._objects.with_phil.wrapper\u001b[0;34m()\u001b[0m\n",
            "\u001b[0;32mh5py/_objects.pyx\u001b[0m in \u001b[0;36mh5py._objects.with_phil.wrapper\u001b[0;34m()\u001b[0m\n",
            "\u001b[0;32mh5py/h5f.pyx\u001b[0m in \u001b[0;36mh5py.h5f.open\u001b[0;34m()\u001b[0m\n",
            "\u001b[0;31mOSError\u001b[0m: Unable to open file (unable to open file: name = 'model.h5', errno = 2, error message = 'No such file or directory', flags = 0, o_flags = 0)"
          ]
        }
      ]
    },
    {
      "metadata": {
        "id": "JnvwlAMoc4Vl",
        "colab_type": "code",
        "colab": {
          "autoexec": {
            "startup": false,
            "wait_interval": 0
          }
        }
      },
      "cell_type": "code",
      "source": [
        "start = numpy.random.randint(0, len(dataX)-1)\n",
        "sentence=\"d herself lying on the bank, with her head in the lap of her sister, who was gently brushing away so\"\n",
        "sentence=sentence.lower()\n",
        "x1=[char_to_int[value] for value in sentence]\n",
        "pattern = x1\n",
        "print (\"Seed:\")\n",
        "print (\"\\\"\", ''.join([int_to_char[value] for value in pattern]), \"\\\"\")\n",
        "# generate characters\n",
        "print(\"-------\")\n",
        "for i in range(1000):\n",
        "    x = numpy.reshape(pattern, (1, len(pattern), 1))\n",
        "    x = x / float(n_vocab)\n",
        "    prediction = model.predict(x, verbose=0)\n",
        "    index = numpy.argmax(prediction)\n",
        "    result = int_to_char[index]\n",
        "    seq_in = [int_to_char[value] for value in pattern]\n",
        "    sys.stdout.write(result)\n",
        "    pattern.append(index)\n",
        "    pattern = pattern[1:len(pattern)]\n",
        "print (\"\\nDone.\")"
      ],
      "execution_count": 0,
      "outputs": []
    }
  ]
}